{
  "nbformat": 4,
  "nbformat_minor": 0,
  "metadata": {
    "colab": {
      "name": "Complexity Assignment ",
      "provenance": [],
      "collapsed_sections": []
    },
    "kernelspec": {
      "name": "python3",
      "display_name": "Python 3"
    },
    "language_info": {
      "name": "python"
    }
  },
  "cells": [
    {
      "cell_type": "code",
      "execution_count": null,
      "metadata": {
        "id": "jH0wH1j19C-q"
      },
      "outputs": [],
      "source": [
        "int a = 0, b = 0;\n",
        "for (i = 0; i < N; i++) {\n",
        "a = a + rand(); }\n",
        "for (j = 0; j < M; j++) { \n",
        "    b = b + rand();\n",
        "}\n",
        "Time Complexity= O(n)"
      ]
    },
    {
      "cell_type": "code",
      "source": [
        "int a = 0;\n",
        "for (i = 0; i < N; i++) {\n",
        "  for (j = N; j > i; j--) {\n",
        "     a = a + i + j;\n",
        "  }\n",
        "}\n",
        "Time Complexity = O(n^2)"
      ],
      "metadata": {
        "id": "QILlBemX9hib"
      },
      "execution_count": null,
      "outputs": []
    },
    {
      "cell_type": "code",
      "source": [
        "int i, j, k = 0;\n",
        "for (i = n / 2; i <= n; i++) {\n",
        " for (j = 2; j <= n; j = j * 2) {\n",
        "     k = k + n / 2;\n",
        " } \n",
        "}\n",
        "Time Complexity = O(n^2)"
      ],
      "metadata": {
        "id": "7QySRtap-RnT"
      },
      "execution_count": null,
      "outputs": []
    },
    {
      "cell_type": "code",
      "source": [
        "int a = 0, i = N; \n",
        "while (i > 0) {\n",
        " a += i;\n",
        " i /= 2; \n",
        " }\n",
        " Time Complexity = O(logn)"
      ],
      "metadata": {
        "id": "gYyB-S3O-Ogg"
      },
      "execution_count": null,
      "outputs": []
    },
    {
      "cell_type": "code",
      "source": [
        "for(var i=0;i<n;i++) \n",
        " i*=k\n",
        " Time Complexity = O(n)"
      ],
      "metadata": {
        "id": "yGDEQv96_cKQ"
      },
      "execution_count": null,
      "outputs": []
    },
    {
      "cell_type": "code",
      "source": [
        " def fun(n): \n",
        "  if (n < 5):\n",
        "   print(\"GeeksforGeeks\", end =\"\") \n",
        "  else:\n",
        "   for i in range(n): \n",
        "    print(i, end= \" \")\n",
        "\n",
        "Time Complexity = O(n^2)"
      ],
      "metadata": {
        "id": "Djy-c6MZ_cZv"
      },
      "execution_count": null,
      "outputs": []
    },
    {
      "cell_type": "code",
      "source": [
        "def fun(a, b):\n",
        " while (a != b): \n",
        "  if (a > b):\n",
        "   a=a-b \n",
        "  else:\n",
        "   b=b-a\n",
        "\n",
        "Time Complexity = O(n)"
      ],
      "metadata": {
        "id": "KpRxZBNYAdbN"
      },
      "execution_count": null,
      "outputs": []
    },
    {
      "cell_type": "code",
      "source": [
        "void fun(int n)\n",
        "{\n",
        "for(int i=0;i*i<n;i++)\n",
        " cout<<\"GeeksforGeeks\"; \n",
        "}\n",
        "Time Complexity = O(n)"
      ],
      "metadata": {
        "id": "uAySTP_g_cjy"
      },
      "execution_count": null,
      "outputs": []
    },
    {
      "cell_type": "code",
      "source": [
        "void fun(int n, int x) \n",
        "{\n",
        " for (int i = 1; i < n; i = i * x) //or for(int i = n; i >=1; i = i / x) \n",
        "  cout << \"GeeksforGeeks\";\n",
        "}\n",
        "    \n",
        "Time Complexity = O(logn)"
      ],
      "metadata": {
        "id": "rz-dH7V__cvL"
      },
      "execution_count": null,
      "outputs": []
    },
    {
      "cell_type": "code",
      "source": [
        "void fun(int n) \n",
        "{\n",
        " for (int i = 0; i < n / 2; i++)\n",
        "  for (int j = 1; j + n / 2 <= n; j++)\n",
        "   for (int k = 1; k <= n; k = k * 2) \n",
        "    cout << \"GeeksforGeeks\";\n",
        "}\n",
        "Time Complexity = O(logn)"
      ],
      "metadata": {
        "id": "j3rESofA_EER"
      },
      "execution_count": null,
      "outputs": []
    },
    {
      "cell_type": "code",
      "source": [
        "void fun(int n) \n",
        "{\n",
        " int i = 1; \n",
        " while (i < n) {\n",
        "  int j = n; \n",
        "  while (j > 0) {\n",
        "   j = j / 2; \n",
        "  }\n",
        "  i = i * 2; \n",
        " }\n",
        "}\n",
        "Time Complexity = O(nlogn)"
      ],
      "metadata": {
        "id": "T7t_CXIg_ET4"
      },
      "execution_count": null,
      "outputs": []
    },
    {
      "cell_type": "code",
      "source": [
        ""
      ],
      "metadata": {
        "id": "WfSaGw69CZZw"
      },
      "execution_count": null,
      "outputs": []
    },
    {
      "cell_type": "code",
      "source": [
        ""
      ],
      "metadata": {
        "id": "VmyFwnMuCZlY"
      },
      "execution_count": null,
      "outputs": []
    },
    {
      "cell_type": "code",
      "source": [
        ""
      ],
      "metadata": {
        "id": "IjptvVca_EdR"
      },
      "execution_count": null,
      "outputs": []
    }
  ]
}